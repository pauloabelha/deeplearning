{
 "cells": [
  {
   "cell_type": "code",
   "execution_count": 1,
   "metadata": {
    "collapsed": true
   },
   "outputs": [],
   "source": [
    "from lxml import html\n",
    "import requests\n",
    "from string import ascii_lowercase\n",
    "import sys\n",
    "import json\n",
    "from xml.etree.ElementTree import tostring\n",
    "from IPython.display import clear_output\n",
    "from time import sleep\n",
    "\n",
    "# base URL\n",
    "page_root_url = 'http://www.laughfactory.com/jokes/'\n",
    "# file name for the topics\n",
    "topics_filename = 'topicsLF.json'\n",
    "# filename for the jokes\n",
    "jokes_filename = 'jokesLF.json'\n",
    "# max joke length\n",
    "MAX_JOKE_LENGTH = 1000"
   ]
  },
  {
   "cell_type": "code",
   "execution_count": 2,
   "metadata": {
    "collapsed": true
   },
   "outputs": [],
   "source": [
    "# request HTML page\n",
    "page_response = requests.get(page_root_url)\n",
    "# convert to tree for searching for elements with xpath\n",
    "tree = html.fromstring(page_response.content)\n",
    "\n",
    "topics_names = tree.xpath('//div[@class=\"jokes-nav\"]//ul//li//text()')\n",
    "topics_urls = tree.xpath('//div[@class=\"jokes-nav\"]//ul//li//a/@href')\n",
    "topics = {}\n",
    "ix = 0\n",
    "for topic_name in topics_names:\n",
    "    topics[topic_name] = topics_urls[ix]\n",
    "    ix += 1\n",
    "\n",
    "with open(topics_filename, 'w') as fp:\n",
    "    json.dump(topics, fp)"
   ]
  },
  {
   "cell_type": "code",
   "execution_count": 3,
   "metadata": {},
   "outputs": [
    {
     "name": "stdout",
     "output_type": "stream",
     "text": [
      "Total number of jokes: 102620\n",
      "Current topic: Animal Jokes\n",
      "Last topic: Yo Momma Jokes\n"
     ]
    }
   ],
   "source": [
    "with open(topics_filename, 'r') as fp:\n",
    "    topics = json.load(fp)  \n",
    "topic_names = sorted(topics.keys())\n",
    "joke_topic_names = [topic_names[0]]\n",
    "\n",
    "jokes = {}\n",
    "tot_n_jokes = 0\n",
    "try:    \n",
    "    with open(jokes_filename, 'r') as fp:\n",
    "        jokes = json.load(fp)    \n",
    "    if len(jokes) == 0:\n",
    "        print('File does not contain jokes of jokes dict is empty')\n",
    "    else:\n",
    "        topics_without_jokes = []\n",
    "        for topic in topics:\n",
    "            if topic in jokes.keys():\n",
    "                n_jokes_topic = 0\n",
    "                jokes_topic = jokes[topic]\n",
    "                for joke in jokes_topic:\n",
    "                    n_jokes_topic+=1\n",
    "            else:\n",
    "                topics_without_jokes.append(topic)\n",
    "            tot_n_jokes += n_jokes_topic\n",
    "except:\n",
    "    print('Could not find jokes file: ' + jokes_filename)\n",
    "    \n",
    "print('Total number of jokes: ' + str(tot_n_jokes))\n",
    "curr_topic = joke_topic_names[-1]\n",
    "print('Current topic: ' + curr_topic)\n",
    "print('Last topic: ' + topic_names[-1])"
   ]
  },
  {
   "cell_type": "code",
   "execution_count": 4,
   "metadata": {},
   "outputs": [
    {
     "name": "stdout",
     "output_type": "stream",
     "text": [
      "Redirect joke: I asked a Chinese girl for her number. She said, \"Sex! Sex! Sex! Free sex tonight!\" I said, \"Wow!\" Then her friend said, \"She means 666-3629.\"\n"
     ]
    }
   ],
   "source": [
    "redirect_joke = ''\n",
    "final_page_url = 'http://www.laughfactory.com/jokes'\n",
    "page_response = requests.get(final_page_url, stream=True)\n",
    "tree = html.fromstring(page_response.content)\n",
    "jokes_tree = tree.xpath('//div[@class=\"joke-text\"]')         \n",
    "joke = jokes_tree[0]\n",
    "joke_text_list = [x for x in joke.itertext()] \n",
    "formatted_joke = ' '.join(joke_text_list).strip()\n",
    "redirect_joke = formatted_joke\n",
    "print('Redirect joke: ' + redirect_joke)"
   ]
  },
  {
   "cell_type": "code",
   "execution_count": 18,
   "metadata": {},
   "outputs": [],
   "source": [
    "def get_topic_jokes(topic,topic_page_url,jokes, tot_n_jokes = 0):\n",
    "    MAX_RANGE_PAGE = 1000\n",
    "    jokes_list = []   \n",
    "    ix_joke = 0\n",
    "    redirected_joke = False\n",
    "    for ix_page in range(1,MAX_RANGE_PAGE):\n",
    "        final_page_url = topic_page_url + '/' + str(ix_page)\n",
    "        page_response = requests.get(final_page_url, stream=True)\n",
    "        tree = html.fromstring(page_response.content)\n",
    "        jokes_tree = tree.xpath('//div[@class=\"joke-text\"]')\n",
    "        if len(jokes_tree) == 0:\n",
    "            print('Found last joke page')\n",
    "            break        \n",
    "        else:            \n",
    "            for joke in jokes_tree:\n",
    "                ix_joke += 1\n",
    "                joke_text_list = [x for x in joke.itertext()] \n",
    "                formatted_joke = ' '.join(joke_text_list).strip()\n",
    "                if formatted_joke == redirect_joke and tot_n_jokes > 0:\n",
    "                    redirected_joke = True\n",
    "                    print('Redirected - stopping topic')\n",
    "                    break\n",
    "                jokes_list.append(formatted_joke)                           \n",
    "                tot_n_jokes += 1\n",
    "                print('Total number of jokes: ' + str(tot_n_jokes))\n",
    "                print(final_page_url)\n",
    "                print(topic + ': ' + formatted_joke)\n",
    "                clear_output(wait=True)\n",
    "        if redirected_joke:\n",
    "            break    \n",
    "    jokes[topic] = jokes_list\n",
    "    return jokes, tot_n_jokes "
   ]
  },
  {
   "cell_type": "code",
   "execution_count": null,
   "metadata": {
    "slideshow": {
     "slide_type": "-"
    }
   },
   "outputs": [
    {
     "name": "stdout",
     "output_type": "stream",
     "text": [
      "Total number of jokes: 3093\n",
      "http://www.laughfactory.com/jokes/word-play-jokes/28\n",
      "Word Play Jokes: Knock knock.  Who's there?  Marry.  Marry who?  Marry me, please!\n"
     ]
    }
   ],
   "source": [
    "tot_n_jokes = 0\n",
    "for topic in topics:  \n",
    "    jokes, tot_n_jokes = get_topic_jokes(topic,topics[topic],jokes,tot_n_jokes)\n",
    "    with open(jokes_filename, 'w') as fp:\n",
    "        json.dump(jokes, fp)\n",
    "        \n",
    "with open(jokes_filename, 'r') as fp:\n",
    "    jokes = json.load(fp)  "
   ]
  },
  {
   "cell_type": "code",
   "execution_count": null,
   "metadata": {
    "collapsed": true
   },
   "outputs": [],
   "source": []
  },
  {
   "cell_type": "code",
   "execution_count": null,
   "metadata": {
    "collapsed": true
   },
   "outputs": [],
   "source": []
  }
 ],
 "metadata": {
  "celltoolbar": "Slideshow",
  "kernelspec": {
   "display_name": "Python 3",
   "language": "python",
   "name": "python3"
  },
  "language_info": {
   "codemirror_mode": {
    "name": "ipython",
    "version": 3
   },
   "file_extension": ".py",
   "mimetype": "text/x-python",
   "name": "python",
   "nbconvert_exporter": "python",
   "pygments_lexer": "ipython3",
   "version": "3.6.2"
  }
 },
 "nbformat": 4,
 "nbformat_minor": 2
}
