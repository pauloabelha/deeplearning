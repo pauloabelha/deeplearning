{
 "cells": [
  {
   "cell_type": "code",
   "execution_count": 1,
   "metadata": {
    "collapsed": true
   },
   "outputs": [],
   "source": [
    "from lxml import html\n",
    "import requests\n",
    "from string import ascii_lowercase\n",
    "import sys\n",
    "import json\n",
    "import Levenshtein as lev\n",
    "import numpy as np\n",
    "from xml.etree.ElementTree import tostring\n",
    "from IPython.display import clear_output\n",
    "from time import sleep\n",
    "\n",
    "\n",
    "# data folder\n",
    "data_folder = 'data/'\n",
    "# file names for the topics\n",
    "topics_filenames = ['topicsBuddah.json', 'topicsCC.json', 'topicsLF.json']\n",
    "# file names for the jokes\n",
    "jokes_filenames = ['jokesBuddah.json', 'jokesCC.json', 'jokesLF.json']"
   ]
  },
  {
   "cell_type": "code",
   "execution_count": 34,
   "metadata": {},
   "outputs": [
    {
     "name": "stdout",
     "output_type": "stream",
     "text": [
      "Opened all files succesfully!\n",
      "Total number of topics: 3914\n",
      "Total number of jokes: 67540\n"
     ]
    }
   ],
   "source": [
    "all_topic_names = []\n",
    "all_jokes = []\n",
    "first_run = True\n",
    "\n",
    "for topic_filename, jokes_filename in zip(topics_filenames,jokes_filenames):\n",
    "    with open(data_folder + topic_filename, 'r') as fp:\n",
    "        topics = json.load(fp) \n",
    "    all_topic_names += list(topics.keys())\n",
    "    with open(data_folder + jokes_filename, 'r') as fp:\n",
    "        jokes = json.load(fp) \n",
    "    jokes_concat = []\n",
    "    for joke_key in jokes.keys():\n",
    "        jokes_concat += jokes[joke_key]\n",
    "    all_jokes += jokes_concat\n",
    "    \n",
    "    if first_run:\n",
    "        first_run = False\n",
    "        continue\n",
    "    else:\n",
    "        for topic in topics:\n",
    "    \n",
    "    \n",
    "print('Opened all files succesfully!')\n",
    "tot_n_topic_names = len(all_topic_names)\n",
    "print('Total number of topics: ' + str(tot_n_topic_names))\n",
    "tot_n_jokes = len(all_jokes)\n",
    "print('Total number of jokes: ' + str(tot_n_jokes))"
   ]
  },
  {
   "cell_type": "code",
   "execution_count": 35,
   "metadata": {
    "collapsed": true
   },
   "outputs": [],
   "source": [
    "topics_mtx = np.zeros((tot_n_topic_names, tot_n_topic_names))\n",
    "np.fill_diagonal(topics_mtx, 1e6)"
   ]
  },
  {
   "cell_type": "code",
   "execution_count": 36,
   "metadata": {},
   "outputs": [],
   "source": [
    "for i in range(tot_n_topic_names):\n",
    "    j = i + 1\n",
    "    while j < tot_n_topic_names:\n",
    "        topics_mtx[i,j] = lev.distance(all_topic_names[i].strip().lower(), all_topic_names[j].strip().lower())\n",
    "        topics_mtx[j,i] = topics_mtx[i,j]\n",
    "        j += 1\n",
    "        "
   ]
  },
  {
   "cell_type": "code",
   "execution_count": 28,
   "metadata": {},
   "outputs": [
    {
     "name": "stdout",
     "output_type": "stream",
     "text": [
      "(Animal, Animal)\n"
     ]
    }
   ],
   "source": [
    "min_ixs = topics_mtx.argmin(axis=1)\n",
    "mins = topics_mtx.min(axis=1)\n",
    "\n",
    "equal_topics_ixs = []\n",
    "\n",
    "for i in range(tot_n_topic_names):\n",
    "    dist_ = topics_mtx[i,min_ixs[i]]\n",
    "    if dist_ <= 0.5:\n",
    "        equal_topics_ixs.append(i)\n",
    "        dist_ = topics_mtx[i,min_ixs[i]]\n",
    "        print('(' + str(all_topic_names[i]) + ', ' + str(all_topic_names[min_ixs[i]]) + ')')\n",
    "        clear_output(wait=True)\n",
    "        \n",
    "print('(' + str(all_topic_names[equal_topics_ixs[0]]) + ', ' + str(all_topic_names[equal_topics_ixs[0]]) + ')')\n",
    "    "
   ]
  },
  {
   "cell_type": "code",
   "execution_count": 32,
   "metadata": {},
   "outputs": [
    {
     "name": "stdout",
     "output_type": "stream",
     "text": [
      "(Doctor, Doctor)\n"
     ]
    }
   ],
   "source": [
    "i = 3\n",
    "print('(' + str(all_topic_names[equal_topics_ixs[i]]) + ', ' + str(all_topic_names[equal_topics_ixs[i]]) + ')')"
   ]
  },
  {
   "cell_type": "code",
   "execution_count": null,
   "metadata": {
    "collapsed": true
   },
   "outputs": [],
   "source": []
  }
 ],
 "metadata": {
  "kernelspec": {
   "display_name": "Python 3",
   "language": "python",
   "name": "python3"
  },
  "language_info": {
   "codemirror_mode": {
    "name": "ipython",
    "version": 3
   },
   "file_extension": ".py",
   "mimetype": "text/x-python",
   "name": "python",
   "nbconvert_exporter": "python",
   "pygments_lexer": "ipython3",
   "version": "3.6.2"
  }
 },
 "nbformat": 4,
 "nbformat_minor": 2
}
