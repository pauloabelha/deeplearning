{
 "cells": [
  {
   "cell_type": "code",
   "execution_count": 1,
   "metadata": {
    "collapsed": true
   },
   "outputs": [],
   "source": [
    "from lxml import html\n",
    "import requests\n",
    "from string import ascii_lowercase\n",
    "import sys\n",
    "import json\n",
    "from xml.etree.ElementTree import tostring\n",
    "from IPython.display import clear_output\n",
    "from time import sleep\n",
    "\n",
    "# base URL\n",
    "page_root_url = 'http://www.jokeswarehouse.com/'\n",
    "# file name for the topics\n",
    "topics_filename = 'topicsJW.json'\n",
    "# filename for the jokes\n",
    "jokes_filename = 'jokesJW.json'\n",
    "# max joke length\n",
    "MAX_JOKE_LENGTH = 1000"
   ]
  },
  {
   "cell_type": "code",
   "execution_count": 2,
   "metadata": {},
   "outputs": [],
   "source": [
    "# request HTML page\n",
    "page_response = requests.get(page_root_url)\n",
    "# convert to tree for searching for elements with xpath\n",
    "tree = html.fromstring(page_response.content)\n",
    "\n",
    "topics_names = tree.xpath('//td[@bgcolor=\"#FFFFFF\"]//td[@valign=\"top\"]//ul//li//text()')\n",
    "topics_urls = tree.xpath('//td[@bgcolor=\"#FFFFFF\"]//td[@valign=\"top\"]//ul//li//a/@href')\n",
    "\n",
    "topics = {}\n",
    "ix = 0\n",
    "for topic_name in topics_names:\n",
    "    if len(topic_name.strip()) > 1:\n",
    "        topics[topic_name] = topics_urls[ix]\n",
    "        ix += 1\n",
    "        \n",
    "with open(topics_filename, 'w') as fp:\n",
    "    json.dump(topics, fp)"
   ]
  },
  {
   "cell_type": "code",
   "execution_count": 3,
   "metadata": {},
   "outputs": [
    {
     "name": "stdout",
     "output_type": "stream",
     "text": [
      "Total number of topics: 28\n",
      "Total number of jokes: 5964\n",
      "Current topic: Animal Jokes\n",
      "Last topic: Workplace Jokes\n"
     ]
    }
   ],
   "source": [
    "with open(topics_filename, 'r') as fp:\n",
    "    topics = json.load(fp)  \n",
    "topic_names = sorted(topics.keys())\n",
    "joke_topic_names = [topic_names[0]]\n",
    "\n",
    "jokes = {}\n",
    "tot_n_jokes = 0\n",
    "try:    \n",
    "    with open(jokes_filename, 'r') as fp:\n",
    "        jokes = json.load(fp)    \n",
    "    if len(jokes) == 0:\n",
    "        print('File does not contain jokes of jokes dict is empty')\n",
    "    else:\n",
    "        topics_without_jokes = []\n",
    "        for topic in topics:\n",
    "            if topic in jokes.keys():\n",
    "                n_jokes_topic = 0\n",
    "                jokes_topic = jokes[topic]\n",
    "                for joke in jokes_topic:\n",
    "                    n_jokes_topic+=1\n",
    "            else:\n",
    "                topics_without_jokes.append(topic)\n",
    "            tot_n_jokes += n_jokes_topic\n",
    "except:\n",
    "    print('Could not find jokes file: ' + jokes_filename)\n",
    "    \n",
    "print('Total number of topics: ' + str(len(topic_names)))\n",
    "print('Total number of jokes: ' + str(tot_n_jokes))\n",
    "curr_topic = joke_topic_names[-1]\n",
    "print('Current topic: ' + curr_topic)\n",
    "print('Last topic: ' + topic_names[-1])"
   ]
  },
  {
   "cell_type": "code",
   "execution_count": 4,
   "metadata": {},
   "outputs": [
    {
     "name": "stdout",
     "output_type": "stream",
     "text": [
      "Current topic: Workplace Jokes\n",
      "Total number of jokes to process: 290/290\n",
      "Dear Employees:It has been brought to management's attention that some individuals throughout the Service have been using foul language during the course of normal conversation with their co-workers.Due to complaints received from some employees who may be easily offended, this type of language will no longer be tolerated.We do, however, realize the critical importance of being able to accurately express your feelings when communicating with co-workers.Therefore,a list of 18 New and Innovative 'TRY SAYING' phrases have been provided so that proper exchange of ideas and information can continue in an effective manner.Number 1TRY SAYING: I think you could use more training..INSTEAD OF: You don't know what the f___ you're doing.Number 2TRY SAYING: She's an aggressive go-getter.INSTEAD OF: She's a f___ing bit__.Number 3TRY SAYING: Perhaps I can work late.INSTEAD OF: And when the f___ do you expect me to do this?Number 4TRY SAYING: I'm certain that isn't feasible.INSTEAD OF: No f___ing way.Number 5TRY SAYING: Really?INSTEAD OF: You've got to be sh___ing me!Number 6TRY SAYING: Perhaps you should check with...INSTEAD OF: Tell someone who gives a sh__.Number 7TRY SAYING: I wasn't involved in the project.INSTEAD OF: It's not my f___ing problem.Number 8TRY SAYING: That's interesting.INSTEAD OF: What the f___?Number 9TRY SAYING: I'm not sure this can be implemented.INSTEAD OF: This sh__ won't work.Number 10TRY SAYING: I'll try to schedule that.INSTEAD OF: Why the f___ didn't you tell me sooner?Number 11TRY SAYING: He's not familiar with the issues...INSTEAD OF: He's got his head up his a__.Number 12TRY SAYING: Excuse me, sir?INSTEAD OF: Eat sh__ and die.Number 13TRY SAYING: So you weren't happy with it?INSTEAD OF: Kiss my a__.Number 14TRY SAYING: I'm a bit overloaded at the moment.INSTEAD OF: F__ it, I'm on salary.Number 15TRY SAYING: I don't think you understand.INSTEAD OF: Shove it up your a__.Number 16TRY SAYING: I love a challenge.INSTEAD OF: This f___ing job sucks.Number 17TRY SAYING: You want me to take care of that?INSTEAD OF: Who the f___ died and made you boss?Number 18TRY SAYING: He's somewhat insensitive.INSTEAD OF: He's a pr_ck.Thank You,\n",
      "\n",
      "Human Resources\n"
     ]
    }
   ],
   "source": [
    "jokes = {}\n",
    "\n",
    "for topic_key in topics.keys():\n",
    "    page_response = requests.get(topics[topic_key], stream=True)\n",
    "    tree = html.fromstring(page_response.content)\n",
    "    joke_links = tree.xpath('//td[@bgcolor=\"#FFFFFF\"]//center//a/@href')\n",
    "    jokes_list = []\n",
    "    ix = 0\n",
    "    for joke_link in joke_links:\n",
    "        ix += 1\n",
    "        page_response = requests.get(joke_link, stream=True)\n",
    "        tree = html.fromstring(page_response.content)\n",
    "        joke_html = tree.xpath('//td[@bgcolor=\"#FFFFFF\"]//p//text()')\n",
    "        joke_text = ''\n",
    "        for joke_html_in in joke_html:\n",
    "            joke_text += joke_html_in.strip()\n",
    "        formated_joke = joke_text.strip()\n",
    "        print('Current topic: ' + str(topic_key))\n",
    "        print('Total number of jokes to process: ' + str(ix) + '/' + str(len(joke_links)))\n",
    "        print(formated_joke)\n",
    "        clear_output(wait=True)\n",
    "        jokes_list.append(formated_joke)\n",
    "    jokes[topic_key] = jokes_list\n",
    "    with open(jokes_filename, 'w') as fp:\n",
    "        json.dump(jokes, fp)\n",
    "    sleep(3)"
   ]
  },
  {
   "cell_type": "code",
   "execution_count": null,
   "metadata": {
    "collapsed": true
   },
   "outputs": [],
   "source": []
  },
  {
   "cell_type": "code",
   "execution_count": null,
   "metadata": {
    "collapsed": true
   },
   "outputs": [],
   "source": []
  }
 ],
 "metadata": {
  "celltoolbar": "Slideshow",
  "kernelspec": {
   "display_name": "Python 3",
   "language": "python",
   "name": "python3"
  },
  "language_info": {
   "codemirror_mode": {
    "name": "ipython",
    "version": 3
   },
   "file_extension": ".py",
   "mimetype": "text/x-python",
   "name": "python",
   "nbconvert_exporter": "python",
   "pygments_lexer": "ipython3",
   "version": "3.6.2"
  }
 },
 "nbformat": 4,
 "nbformat_minor": 2
}
