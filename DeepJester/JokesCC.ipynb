{
 "cells": [
  {
   "cell_type": "code",
   "execution_count": 28,
   "metadata": {
    "collapsed": true
   },
   "outputs": [],
   "source": [
    "from lxml import html\n",
    "import requests\n",
    "import pickle\n",
    "from IPython.display import clear_output\n",
    "from time import sleep\n",
    "import json\n",
    "import numpy as np\n",
    "\n",
    "# base URL for the jokes website\n",
    "page_root_url = 'http://jokes.cc.com/'\n",
    "# file name for the topics dictionary (topic_name -> topic_URL)\n",
    "topics_filename = 'topicsCC.json'\n",
    "# filename for the jokes dictionary (topic_name -> list of jokes)\n",
    "jokes_filename = 'jokesCC.json'"
   ]
  },
  {
   "cell_type": "code",
   "execution_count": 19,
   "metadata": {},
   "outputs": [
    {
     "name": "stdout",
     "output_type": "stream",
     "text": [
      "Gathered a total of 34 topics\n",
      "{'Animal': 'http://jokes.cc.com/funny-animal', 'Blonde': 'http://jokes.cc.com/funny-blonde', 'Blue Collar': 'http://jokes.cc.com/funny-blue-collar', 'Cross the Road': 'http://jokes.cc.com/funny-cross-the-road', 'Dark Humor': 'http://jokes.cc.com/funny-dark-humor', 'Dirty': 'http://jokes.cc.com/funny-dirty', 'Doctor': 'http://jokes.cc.com/funny-doctor', 'Fat': 'http://jokes.cc.com/funny-fat', 'Food': 'http://jokes.cc.com/funny-food', 'God': 'http://jokes.cc.com/funny-god', 'Gross': 'http://jokes.cc.com/funny-gross', 'Insults': 'http://jokes.cc.com/funny-insults', 'Kids': 'http://jokes.cc.com/funny-kids', 'Lawyer': 'http://jokes.cc.com/funny-lawyer', 'Little Johnny': 'http://jokes.cc.com/funny-little-johnny', \"Lookin' Good\": 'http://jokes.cc.com/funny-lookin--good', 'Marriage': 'http://jokes.cc.com/funny-marriage', 'Men/Women': 'http://jokes.cc.com/funny-men-women', 'Miscellaneous': 'http://jokes.cc.com/funny-miscellaneous', 'Money': 'http://jokes.cc.com/funny-money', 'NSFW': 'http://jokes.cc.com/funny-nsfw', 'Nationality': 'http://jokes.cc.com/funny-nationality', 'News & Politics': 'http://jokes.cc.com/funny-news---politics', 'Partying & Bad Behavior': 'http://jokes.cc.com/funny-partying---bad-behavior', 'Pick-Up Lines': 'http://jokes.cc.com/funny-pick-up-lines', 'Police & Military': 'http://jokes.cc.com/funny-police---military', 'Pop Culture & Celebrity': 'http://jokes.cc.com/funny-pop-culture---celebrity', 'School': 'http://jokes.cc.com/funny-school', 'Sports & Athletes': 'http://jokes.cc.com/funny-sports---athletes', 'Technology': 'http://jokes.cc.com/funny-technology', 'Travel & Car': 'http://jokes.cc.com/funny-travel---car', 'Walks into a Bar': 'http://jokes.cc.com/funny-walks-into-a-bar', 'Work': 'http://jokes.cc.com/funny-work', \"Yo' Mama\": 'http://jokes.cc.com/funny-yo--mama'}\n"
     ]
    }
   ],
   "source": [
    "# gather topics and save them to file\n",
    "\n",
    "# sub-URL where the jokes are\n",
    "page_topic_base_url = page_root_url + 'joke-categories'\n",
    "# request HTML page\n",
    "page_response = requests.get(page_topic_base_url)\n",
    "# convert to tree for searching for elements with xpath\n",
    "tree = html.fromstring(page_response.content)\n",
    "# get all topics (but they come with many empty strings and \\n stirngs)\n",
    "raw_topics = tree.xpath('//div[@class=\"middle\"]//ul[@class=\"list_horiz\"]//text()')\n",
    "# get the clean topics' urls\n",
    "topics_links = tree.xpath('//div[@class=\"middle\"]//ul[@class=\"list_horiz\"]//li/a/@href')\n",
    "# run through every raw topic and get only the clean ones (actual topic names)\n",
    "topics = {}\n",
    "ix = 0\n",
    "for raw_topic in raw_topics:\n",
    "    raw_topic_strip = raw_topic.strip()\n",
    "    if len(raw_topic_strip) > 1:        \n",
    "        topics[raw_topic] = topics_links[ix]\n",
    "        ix += 1\n",
    "# save the file as JSON\n",
    "with open(topics_filename, 'w') as fp:\n",
    "    json.dump(topics, fp)\n",
    "# print information on gathered topics\n",
    "print('Gathered a total of ' + str(len(topics)) + ' topics')\n",
    "print(topics)"
   ]
  },
  {
   "cell_type": "code",
   "execution_count": 3,
   "metadata": {
    "collapsed": true
   },
   "outputs": [],
   "source": [
    "# function for gathering jokes given a topic\n",
    "# the function updates the total number of jokes and the jokes dictionary\n",
    "def get_topic_jokes(topics, topic, jokes, tot_n_jokes = 0, MAX_N_JOKES = 1000000):\n",
    "    topic_jokes_url = topics[topic]\n",
    "    page_response = requests.get(topic_jokes_url)\n",
    "    tree = html.fromstring(page_response.content)\n",
    "    joke_urls = tree.xpath('//div[@class=\"middle\"]//ul//li//a/@href')\n",
    "    joke_urls = joke_urls[1:]\n",
    "    tot_n_jokes += len(joke_urls)\n",
    "    ix_joke = 0\n",
    "    jokes[topic] = []\n",
    "    for joke_url in joke_urls:\n",
    "        page_response = requests.get(joke_url, stream=True)\n",
    "        tree = html.fromstring(page_response.content)\n",
    "        joke_lines = tree.xpath('//div[@class=\"content_wrap\"]//p//text()')\n",
    "        joke = ''        \n",
    "        for joke_line in joke_lines:\n",
    "            if len(joke_line) > 1:\n",
    "                joke += ' ' + joke_line.lstrip().rstrip()\n",
    "        jokes[topic].append(joke)\n",
    "        ix_joke = ix_joke + 1\n",
    "        if ix_joke >= MAX_N_JOKES:\n",
    "            print('Maximum number of jokes reached!')\n",
    "            clear_output(wait=True)\n",
    "            tot_n_jokes = ix_joke\n",
    "            return jokes, tot_n_jokes\n",
    "        print('Total number of topics: ' + str(len(topics.keys())))\n",
    "        print('Total number of jokes: ' + str(tot_n_jokes))\n",
    "        print('Total number of jokes for topic ' + topic + ': ' + str(ix_joke) +'/' + str(tot_n_jokes))\n",
    "        print('Topic ' + topic + ': ' + joke)\n",
    "        clear_output(wait=True)\n",
    "    return jokes, tot_n_jokes"
   ]
  },
  {
   "cell_type": "code",
   "execution_count": 4,
   "metadata": {
    "slideshow": {
     "slide_type": "-"
    }
   },
   "outputs": [
    {
     "name": "stdout",
     "output_type": "stream",
     "text": [
      "Total number of topics: 34\n",
      "Total number of jokes: 20945\n",
      "Total number of jokes for topic Yo' Mama: 824/20945\n",
      "Topic Yo' Mama: \n"
     ]
    }
   ],
   "source": [
    "# this cell will continue form tha last processed topic\n",
    "# it read the jokes file and gets the current topic as the last topic in jokes dictionary keys\n",
    "\n",
    "# load topics file\n",
    "topics = pickle.load( open( topics_filename, \"rb\" ) ) \n",
    "# get total number of jokes and current topic as last processed one\n",
    "jokes = {}\n",
    "tot_n_jokes = 0\n",
    "topics_keys = list(topics.copy().keys())\n",
    "curr_topic = topics_keys[0]\n",
    "try:\n",
    "    jokes = pickle.load( open(jokes_filename, \"rb\") )    \n",
    "    topics_without_jokes = []\n",
    "    for topic in topics:\n",
    "        n_jokes_topic = 0\n",
    "        if topic in jokes.keys():        \n",
    "            jokes_topic = jokes[topic]\n",
    "            for joke in jokes_topic:\n",
    "                n_jokes_topic+=1\n",
    "        else:\n",
    "            topics_without_jokes.append(topic)\n",
    "        tot_n_jokes += n_jokes_topic\n",
    "\n",
    "    jokes_topics = sorted(jokes.keys())\n",
    "    curr_topic = jokes_topics[-1]\n",
    "    print('Last processed topic before interruption was: ' + curr_topic)\n",
    "except:\n",
    "    print('Could not find file ' + jokes_filename + '. Starting from scratch.')\n",
    "\n",
    "    # run starting from last processed topic until last topic, gathering all jokes\n",
    "found_last_topic = False\n",
    "for topic in topics.keys():    \n",
    "    if topic == curr_topic:\n",
    "        found_last_topic = True\n",
    "    if not found_last_topic:        \n",
    "        continue\n",
    "    jokes, tot_n_jokes = get_topic_jokes(topics, topic, jokes, tot_n_jokes)\n",
    "    with open(jokes_filename, 'wb') as fp:\n",
    "         pickle.dump(jokes, fp)"
   ]
  },
  {
   "cell_type": "code",
   "execution_count": 44,
   "metadata": {},
   "outputs": [
    {
     "name": "stdout",
     "output_type": "stream",
     "text": [
      "Animal: 819\n",
      "Blonde: 400\n",
      "Blue Collar: 370\n",
      "Cross the Road: 47\n",
      "Dark Humor: 474\n",
      "Dirty: 1034\n",
      "Doctor: 825\n",
      "Fat: 403\n",
      "Food: 472\n",
      "God: 566\n",
      "Gross: 679\n",
      "Insults: 1034\n",
      "Kids: 926\n",
      "Lawyer: 149\n",
      "Little Johnny: 68\n",
      "Lookin' Good: 1034\n",
      "Marriage: 821\n",
      "Men/Women: 1031\n",
      "Miscellaneous: 1033\n",
      "Money: 701\n",
      "NSFW: 36\n",
      "Nationality: 773\n",
      "News & Politics: 849\n",
      "Partying & Bad Behavior: 909\n",
      "Pick-Up Lines: 593\n",
      "Police & Military: 575\n",
      "Pop Culture & Celebrity: 984\n",
      "School: 388\n",
      "Sports & Athletes: 494\n",
      "Technology: 384\n",
      "Travel & Car: 575\n",
      "Walks into a Bar: 78\n",
      "Work: 597\n",
      "Yo' Mama: 824\n",
      "\n",
      "Total number of topics: 34\n",
      "Total number of jokes: 20945\n",
      "Jokes per topic = 616.0 +- 309.0\n"
     ]
    }
   ],
   "source": [
    "# print stats on topics and jokes\n",
    "\n",
    "with open(topics_filename, 'r') as fp:\n",
    "    topics = json.load(fp)  \n",
    "with open(jokes_filename, 'r') as fp:\n",
    "    jokes = json.load(fp)\n",
    "\n",
    "tot_n_jokes = 0\n",
    "topics_without_jokes = []\n",
    "jokes_per_topic = []\n",
    "for topic in topics.keys():\n",
    "    if topic in jokes.keys():\n",
    "        n_jokes_topic = 0\n",
    "        jokes_topic = jokes[topic]\n",
    "        for joke in jokes_topic:\n",
    "            n_jokes_topic+=1\n",
    "        #print(topic + ': ' + str(n_jokes_topic))\n",
    "    else:\n",
    "        topics_without_jokes.append(topic)\n",
    "    tot_n_jokes += n_jokes_topic\n",
    "    jokes_per_topic.append(n_jokes_topic)\n",
    "\n",
    "print('Total number of topics: ' + str(len(topics.keys())))\n",
    "print('Total number of jokes: ' + str(tot_n_jokes))\n",
    "print('Jokes per topic = ' + str(round(np.mean(jokes_per_topic))) + ' +- ' + str(round(np.std(jokes_per_topic))))"
   ]
  },
  {
   "cell_type": "code",
   "execution_count": null,
   "metadata": {
    "collapsed": true
   },
   "outputs": [],
   "source": []
  }
 ],
 "metadata": {
  "celltoolbar": "Slideshow",
  "kernelspec": {
   "display_name": "Python 3",
   "language": "python",
   "name": "python3"
  },
  "language_info": {
   "codemirror_mode": {
    "name": "ipython",
    "version": 3
   },
   "file_extension": ".py",
   "mimetype": "text/x-python",
   "name": "python",
   "nbconvert_exporter": "python",
   "pygments_lexer": "ipython3",
   "version": "3.6.2"
  }
 },
 "nbformat": 4,
 "nbformat_minor": 2
}
