{
 "cells": [
  {
   "cell_type": "code",
   "execution_count": 8,
   "metadata": {
    "collapsed": true
   },
   "outputs": [],
   "source": [
    "from lxml import html\n",
    "import requests\n",
    "from string import ascii_lowercase\n",
    "import sys\n",
    "import json\n",
    "from xml.etree.ElementTree import tostring\n",
    "from IPython.display import clear_output\n",
    "from time import sleep\n",
    "\n",
    "# base URL\n",
    "page_root_url = 'http://www.jokebuddha.com/'\n",
    "# file name for the topics\n",
    "topics_filename = 'topicsBuddah.json'\n",
    "# filename for the jokes\n",
    "jokes_filename = 'jokesBuddah.json'"
   ]
  },
  {
   "cell_type": "code",
   "execution_count": 15,
   "metadata": {},
   "outputs": [
    {
     "name": "stdout",
     "output_type": "stream",
     "text": [
      "Gathered a total of 224 topics\n"
     ]
    },
    {
     "name": "stdout",
     "output_type": "stream",
     "text": [
      "{'T-shirt': 'http://www.jokebuddha.com/topics/T', 'Table': 'http://www.jokebuddha.com/topics/T', 'Taco': 'http://www.jokebuddha.com/topics/T', 'Tail': 'http://www.jokebuddha.com/topics/T', 'Tailor': 'http://www.jokebuddha.com/topics/T', 'Take': 'http://www.jokebuddha.com/topics/T', 'Taliban': 'http://www.jokebuddha.com/topics/T', 'Talk': 'http://www.jokebuddha.com/topics/T', 'Tall': 'http://www.jokebuddha.com/topics/T', 'Tampons': 'http://www.jokebuddha.com/topics/T', 'Tank': 'http://www.jokebuddha.com/topics/T', 'Tape': 'http://www.jokebuddha.com/topics/T', 'Taps': 'http://www.jokebuddha.com/topics/T', 'Target': 'http://www.jokebuddha.com/topics/T', 'Tarzan': 'http://www.jokebuddha.com/topics/T', 'Task': 'http://www.jokebuddha.com/topics/T', 'Taste': 'http://www.jokebuddha.com/topics/T', 'Tattoo': 'http://www.jokebuddha.com/topics/T', 'Tax': 'http://www.jokebuddha.com/topics/T', 'Taxes': 'http://www.jokebuddha.com/topics/T', 'Taxi': 'http://www.jokebuddha.com/topics/T', 'Taylor': 'http://www.jokebuddha.com/topics/T', 'Tea': 'http://www.jokebuddha.com/topics/T', 'Teach': 'http://www.jokebuddha.com/topics/T', 'Teacher': 'http://www.jokebuddha.com/topics/T', 'Teaching': 'http://www.jokebuddha.com/topics/T', 'Team': 'http://www.jokebuddha.com/topics/T', 'Tear': 'http://www.jokebuddha.com/topics/T', 'Tease': 'http://www.jokebuddha.com/topics/T', 'Tech': 'http://www.jokebuddha.com/topics/T', 'Techer': 'http://www.jokebuddha.com/topics/T', 'Technical': 'http://www.jokebuddha.com/topics/T', 'Technician': 'http://www.jokebuddha.com/topics/T', 'Technology': 'http://www.jokebuddha.com/topics/T', 'Teddy': 'http://www.jokebuddha.com/topics/T', 'Tee': 'http://www.jokebuddha.com/topics/T', 'Teen': 'http://www.jokebuddha.com/topics/T', 'Teenager': 'http://www.jokebuddha.com/topics/T', 'Teeth': 'http://www.jokebuddha.com/topics/T', 'Telegram': 'http://www.jokebuddha.com/topics/T', 'Telephone': 'http://www.jokebuddha.com/topics/T', 'Television': 'http://www.jokebuddha.com/topics/T', 'Tell': 'http://www.jokebuddha.com/topics/T', 'Teller': 'http://www.jokebuddha.com/topics/T', 'Temperature': 'http://www.jokebuddha.com/topics/T', 'Temple': 'http://www.jokebuddha.com/topics/T', 'Ten': 'http://www.jokebuddha.com/topics/T', 'Tend': 'http://www.jokebuddha.com/topics/T', 'Tender': 'http://www.jokebuddha.com/topics/T', 'Tennesse': 'http://www.jokebuddha.com/topics/T', 'Tennessee': 'http://www.jokebuddha.com/topics/T', 'Tennis': 'http://www.jokebuddha.com/topics/T', 'Tent': 'http://www.jokebuddha.com/topics/T', 'Tequila': 'http://www.jokebuddha.com/topics/T', 'Term': 'http://www.jokebuddha.com/topics/T', 'Terminal': 'http://www.jokebuddha.com/topics/T', 'Terminated': 'http://www.jokebuddha.com/topics/T', 'Terms': 'http://www.jokebuddha.com/topics/T', 'Terrible': 'http://www.jokebuddha.com/topics/T', 'Terrorist': 'http://www.jokebuddha.com/topics/T', 'Test': 'http://www.jokebuddha.com/topics/T', 'Testicles': 'http://www.jokebuddha.com/topics/T', 'Testing': 'http://www.jokebuddha.com/topics/T', 'Texan': 'http://www.jokebuddha.com/topics/T', 'Texas': 'http://www.jokebuddha.com/topics/T', 'Tha': 'http://www.jokebuddha.com/topics/T', 'Thank': 'http://www.jokebuddha.com/topics/T', 'Thanks': 'http://www.jokebuddha.com/topics/T', 'Thanksgiving': 'http://www.jokebuddha.com/topics/T', 'The View': 'http://www.jokebuddha.com/topics/T', 'Theater': 'http://www.jokebuddha.com/topics/T', 'Thee': 'http://www.jokebuddha.com/topics/T', 'Theme': 'http://www.jokebuddha.com/topics/T', 'Theorem': 'http://www.jokebuddha.com/topics/T', 'Theory': 'http://www.jokebuddha.com/topics/T', 'Therapist': 'http://www.jokebuddha.com/topics/T', 'Therefore': 'http://www.jokebuddha.com/topics/T', 'Thermometer': 'http://www.jokebuddha.com/topics/T', 'Thermos': 'http://www.jokebuddha.com/topics/T', 'Thief': 'http://www.jokebuddha.com/topics/T', 'Thigh': 'http://www.jokebuddha.com/topics/T', 'Thin': 'http://www.jokebuddha.com/topics/T', 'Things': 'http://www.jokebuddha.com/topics/T', 'Think': 'http://www.jokebuddha.com/topics/T', 'Thinking': 'http://www.jokebuddha.com/topics/T', 'Third': 'http://www.jokebuddha.com/topics/T', 'Thirty': 'http://www.jokebuddha.com/topics/T', 'Thomas': 'http://www.jokebuddha.com/topics/T', 'Though': 'http://www.jokebuddha.com/topics/T', 'Thought': 'http://www.jokebuddha.com/topics/T', 'Thousand': 'http://www.jokebuddha.com/topics/T', 'Three': 'http://www.jokebuddha.com/topics/T', 'Throat': 'http://www.jokebuddha.com/topics/T', 'Through': 'http://www.jokebuddha.com/topics/T', 'Throw': 'http://www.jokebuddha.com/topics/T', 'Thumb': 'http://www.jokebuddha.com/topics/T', 'Thursday': 'http://www.jokebuddha.com/topics/T', 'Thy': 'http://www.jokebuddha.com/topics/T', 'Tick': 'http://www.jokebuddha.com/topics/T', 'Ticket': 'http://www.jokebuddha.com/topics/T', 'Tickle': 'http://www.jokebuddha.com/topics/T', 'Tie': 'http://www.jokebuddha.com/topics/T', 'Tiger': 'http://www.jokebuddha.com/topics/T', 'Tiger Woods': 'http://www.jokebuddha.com/topics/T', 'Tight': 'http://www.jokebuddha.com/topics/T', 'Tim': 'http://www.jokebuddha.com/topics/T', 'Time': 'http://www.jokebuddha.com/topics/T', 'Times': 'http://www.jokebuddha.com/topics/T', 'Timing': 'http://www.jokebuddha.com/topics/T', 'Timmy': 'http://www.jokebuddha.com/topics/T', 'Tiny': 'http://www.jokebuddha.com/topics/T', 'Tip': 'http://www.jokebuddha.com/topics/T', 'Tips': 'http://www.jokebuddha.com/topics/T', 'Tire': 'http://www.jokebuddha.com/topics/T', 'Tired': 'http://www.jokebuddha.com/topics/T', 'Tires': 'http://www.jokebuddha.com/topics/T', 'Titanic': 'http://www.jokebuddha.com/topics/T', 'Titles': 'http://www.jokebuddha.com/topics/T', 'Tits': 'http://www.jokebuddha.com/topics/T', 'Toast': 'http://www.jokebuddha.com/topics/T', 'Toaster': 'http://www.jokebuddha.com/topics/T', 'Today': 'http://www.jokebuddha.com/topics/T', 'Toes': 'http://www.jokebuddha.com/topics/T', 'Together': 'http://www.jokebuddha.com/topics/T', 'Toilet': 'http://www.jokebuddha.com/topics/T', 'Tom': 'http://www.jokebuddha.com/topics/T', 'Tomato': 'http://www.jokebuddha.com/topics/T', 'Tomatoes': 'http://www.jokebuddha.com/topics/T', 'Tombstone': 'http://www.jokebuddha.com/topics/T', 'Tommy': 'http://www.jokebuddha.com/topics/T', 'Tomorrow': 'http://www.jokebuddha.com/topics/T', 'Tone': 'http://www.jokebuddha.com/topics/T', 'Tongue': 'http://www.jokebuddha.com/topics/T', 'Tonight': 'http://www.jokebuddha.com/topics/T', 'Tons': 'http://www.jokebuddha.com/topics/T', 'Tonto': 'http://www.jokebuddha.com/topics/T', 'Tony': 'http://www.jokebuddha.com/topics/T', 'Tool': 'http://www.jokebuddha.com/topics/T', 'Tools': 'http://www.jokebuddha.com/topics/T', 'Tooth': 'http://www.jokebuddha.com/topics/T', 'Toothbrush': 'http://www.jokebuddha.com/topics/T', 'Top': 'http://www.jokebuddha.com/topics/T', 'Top Ten': 'http://www.jokebuddha.com/topics/T', 'Topic': 'http://www.jokebuddha.com/topics/T', 'Tornado': 'http://www.jokebuddha.com/topics/T', 'Torture': 'http://www.jokebuddha.com/topics/T', 'Total': 'http://www.jokebuddha.com/topics/T', 'Touch': 'http://www.jokebuddha.com/topics/T', 'Tough': 'http://www.jokebuddha.com/topics/T', 'Tour': 'http://www.jokebuddha.com/topics/T', 'Tourist': 'http://www.jokebuddha.com/topics/T', 'Tourists': 'http://www.jokebuddha.com/topics/T', 'Towards': 'http://www.jokebuddha.com/topics/T', 'Towel': 'http://www.jokebuddha.com/topics/T', 'Tower': 'http://www.jokebuddha.com/topics/T', 'Town': 'http://www.jokebuddha.com/topics/T', 'toy': 'http://www.jokebuddha.com/topics/T', 'Toyota': 'http://www.jokebuddha.com/topics/T', 'Toys': 'http://www.jokebuddha.com/topics/T', 'Track': 'http://www.jokebuddha.com/topics/T', 'Tracks': 'http://www.jokebuddha.com/topics/T', 'Tractor': 'http://www.jokebuddha.com/topics/T', 'Tradition': 'http://www.jokebuddha.com/topics/T', 'Traffic': 'http://www.jokebuddha.com/topics/T', 'Tragedy': 'http://www.jokebuddha.com/topics/T', 'Trailer': 'http://www.jokebuddha.com/topics/T', 'Train': 'http://www.jokebuddha.com/topics/T', 'Trained': 'http://www.jokebuddha.com/topics/T', 'Training': 'http://www.jokebuddha.com/topics/T', 'Trains': 'http://www.jokebuddha.com/topics/T', 'Trampoline': 'http://www.jokebuddha.com/topics/T', 'Translate': 'http://www.jokebuddha.com/topics/T', 'Transplant': 'http://www.jokebuddha.com/topics/T', 'Transportation': 'http://www.jokebuddha.com/topics/T', 'Trap': 'http://www.jokebuddha.com/topics/T', 'Trapped': 'http://www.jokebuddha.com/topics/T', 'Trash': 'http://www.jokebuddha.com/topics/T', 'Travel': 'http://www.jokebuddha.com/topics/T', 'Treat': 'http://www.jokebuddha.com/topics/T', 'Treatment': 'http://www.jokebuddha.com/topics/T', 'Tree': 'http://www.jokebuddha.com/topics/T', 'Trees': 'http://www.jokebuddha.com/topics/T', 'Trial': 'http://www.jokebuddha.com/topics/T', 'Tribe': 'http://www.jokebuddha.com/topics/T', 'Trick': 'http://www.jokebuddha.com/topics/T', 'Trinidad': 'http://www.jokebuddha.com/topics/T', 'Trip': 'http://www.jokebuddha.com/topics/T', 'Tripped': 'http://www.jokebuddha.com/topics/T', 'Trombone': 'http://www.jokebuddha.com/topics/T', 'Trooper': 'http://www.jokebuddha.com/topics/T', 'Troops': 'http://www.jokebuddha.com/topics/T', 'Trouble': 'http://www.jokebuddha.com/topics/T', 'Trousers': 'http://www.jokebuddha.com/topics/T', 'Truck': 'http://www.jokebuddha.com/topics/T', 'Trucker': 'http://www.jokebuddha.com/topics/T', 'True Story': 'http://www.jokebuddha.com/topics/T', 'Truly': 'http://www.jokebuddha.com/topics/T', 'Trumpet': 'http://www.jokebuddha.com/topics/T', 'Trunk': 'http://www.jokebuddha.com/topics/T', 'Trust': 'http://www.jokebuddha.com/topics/T', 'Trustees': 'http://www.jokebuddha.com/topics/T', 'Truth': 'http://www.jokebuddha.com/topics/T', 'Try': 'http://www.jokebuddha.com/topics/T', 'Tuba': 'http://www.jokebuddha.com/topics/T', 'Tube': 'http://www.jokebuddha.com/topics/T', 'Tuesday': 'http://www.jokebuddha.com/topics/T', 'Tuna': 'http://www.jokebuddha.com/topics/T', 'Tune': 'http://www.jokebuddha.com/topics/T', 'Tunnel': 'http://www.jokebuddha.com/topics/T', 'Turkey': 'http://www.jokebuddha.com/topics/T', 'Turn': 'http://www.jokebuddha.com/topics/T', 'Turner': 'http://www.jokebuddha.com/topics/T', 'Turtle': 'http://www.jokebuddha.com/topics/T', 'Twat': 'http://www.jokebuddha.com/topics/T', 'Tweat': 'http://www.jokebuddha.com/topics/T', 'Twelve': 'http://www.jokebuddha.com/topics/T', 'Twenty': 'http://www.jokebuddha.com/topics/T', 'Twice': 'http://www.jokebuddha.com/topics/T', 'Twins': 'http://www.jokebuddha.com/topics/T', 'Two': 'http://www.jokebuddha.com/topics/T', 'Type': 'http://www.jokebuddha.com/topics/T', 'Typical': 'http://www.jokebuddha.com/topics/T', 'Typing': 'http://www.jokebuddha.com/topics/T', 'Tyson': 'http://www.jokebuddha.com/topics/T'}\n"
     ]
    }
   ],
   "source": [
    "topics = {}\n",
    "i = 't'\n",
    "page_topic_url = page_topic_base_url + i.upper()\n",
    "page_response = requests.get(page_topic_url, stream=True)\n",
    "tree = html.fromstring(page_response.content)\n",
    "all_topics_for_letter = tree.xpath('//div[@class=\"topicsList\"]//text()')\n",
    "for topic_for_letter in all_topics_for_letter:\n",
    "    if len(topic_for_letter) > 1:\n",
    "        topics[topic_for_letter] = page_topic_url\n",
    "        print(page_topic_url + ': ' + topic_for_letter)\n",
    "        clear_output(wait=True)\n",
    "\n",
    "print('Gathered a total of ' + str(len(topics)) + ' topics')\n",
    "print(topics)"
   ]
  },
  {
   "cell_type": "code",
   "execution_count": null,
   "metadata": {},
   "outputs": [
    {
     "name": "stdout",
     "output_type": "stream",
     "text": [
      "http://www.jokebuddha.com/topics/S: System 880\n"
     ]
    }
   ],
   "source": [
    "# gather topics\n",
    "page_topic_base_url = page_root_url + 'topics/'\n",
    "topics = {}\n",
    "for i in ascii_lowercase:\n",
    "    page_topic_url = page_topic_base_url + i.upper()\n",
    "    page_response = requests.get(page_topic_url, stream=True)\n",
    "    tree = html.fromstring(page_response.content)\n",
    "    all_topics_for_letter = tree.xpath('//div[@class=\"topicsList\"]//text()')\n",
    "    for topic_for_letter in all_topics_for_letter:\n",
    "        if len(topic_for_letter) > 1:\n",
    "            topics[topic_for_letter] = page_topic_url\n",
    "            print(page_topic_url + ': ' + topic_for_letter + ' ' + str(len(all_topics_for_letter)))\n",
    "            clear_output(wait=True)\n",
    "\n",
    "with open(topics_filename, 'w') as fp:\n",
    "    json.dump(topics, fp)\n",
    "    \n",
    "print('Gathered a total of ' + str(len(topics.keys())) + ' topics')\n",
    "topic_names = list(topics.keys())\n",
    "print(topic_names[-1])"
   ]
  },
  {
   "cell_type": "code",
   "execution_count": 30,
   "metadata": {
    "collapsed": true
   },
   "outputs": [],
   "source": [
    "def get_jokes(base_page_url, iter_, topic, jokes, first_joke, tot_n_jokes = 0):  \n",
    "    MAX_JOKE_LENGTH = 200\n",
    "    no_more_jokes = True\n",
    "    \n",
    "    final_page_url = base_page_url + str(iter_)\n",
    "    got_request = False\n",
    "    while not got_request:\n",
    "        try:\n",
    "            page_response = requests.get(final_page_url, stream=True)\n",
    "            got_request = True\n",
    "        except:\n",
    "            print('Taking a nap until the website responds zzzZZZ...')\n",
    "            sleep(5)\n",
    "    \n",
    "    tree = html.fromstring(page_response.content)    \n",
    "    joke_html_texts = tree.xpath('//p[@class=\"joke-inner\"]')\n",
    "    if len(joke_html_texts) == 0:\n",
    "        return no_more_jokes, jokes, tot_n_jokes\n",
    "    \n",
    "    for joke_html_text in joke_html_texts:\n",
    "        joke_text_list = [x for x in joke_html_text.itertext()]        \n",
    "        if len(joke_text_list) == 0:\n",
    "            return no_more_jokes, jokes, tot_n_jokes\n",
    "        formatted_joke = ' '.join(joke_text_list)\n",
    "        if formatted_joke == first_joke:\n",
    "            return no_more_jokes, jokes, tot_n_jokes        \n",
    "        if not formatted_joke.find('Read more') == 0 and len(formatted_joke) <= MAX_JOKE_LENGTH:\n",
    "            jokes[topic].append(formatted_joke)\n",
    "            print('Total number of jokes: ' + str(tot_n_jokes))\n",
    "            print('Topic ' + topic + ': ' + formatted_joke)\n",
    "            clear_output(wait=True)\n",
    "            tot_n_jokes += 1\n",
    "    \n",
    "    no_more_jokes = False\n",
    "    return no_more_jokes, jokes, tot_n_jokes\n",
    "\n",
    "def get_topic_jokes(topic,page_root_url,jokes, tot_n_jokes = 0):\n",
    "    final_page_url = page_root_url + topic + '/recent/'\n",
    "    jokes[topic] = []\n",
    "    first_joke = 'NotAJoke'\n",
    "    no_more_jokes, jokes, tot_n_jokes = get_jokes(final_page_url, 1, topic, jokes, first_joke, tot_n_jokes)\n",
    "    if no_more_jokes:\n",
    "        return jokes, no_more_jokes, tot_n_jokes\n",
    "    if len(jokes[topic]) > 0:\n",
    "        first_joke = jokes[topic][0]\n",
    "\n",
    "    for i in range(100):  \n",
    "        no_more_jokes, jokes, tot_n_jokes = get_jokes(final_page_url, i+2, topic, jokes, first_joke, tot_n_jokes)   \n",
    "        if no_more_jokes:            \n",
    "            break    \n",
    "    return jokes, no_more_jokes, tot_n_jokes       "
   ]
  },
  {
   "cell_type": "code",
   "execution_count": 36,
   "metadata": {},
   "outputs": [
    {
     "name": "stdout",
     "output_type": "stream",
     "text": [
      "Total number of jokes: 42804\n",
      "Current topic: toy\n",
      "Last topic: Zookeeper\n"
     ]
    }
   ],
   "source": [
    "with open(topics_filename, 'r') as fp:\n",
    "    topics = json.load(fp)  \n",
    "with open(jokes_filename, 'r') as fp:\n",
    "    jokes = json.load(fp)  \n",
    "\n",
    "topic_names = list(topics.keys())\n",
    "    \n",
    "tot_n_jokes = 0\n",
    "topics_without_jokes = []\n",
    "for topic in topics:\n",
    "    if topic in jokes.keys():\n",
    "        n_jokes_topic = 0\n",
    "        jokes_topic = jokes[topic]\n",
    "        for joke in jokes_topic:\n",
    "            n_jokes_topic+=1\n",
    "    else:\n",
    "        topics_without_jokes.append(topic)\n",
    "    tot_n_jokes += n_jokes_topic\n",
    "\n",
    "print('Total number of jokes: ' + str(tot_n_jokes))\n",
    "joke_topic_names = list(jokes.keys())\n",
    "curr_topic = joke_topic_names[-1]\n",
    "print('Current topic: ' + curr_topic)\n",
    "print('Last topic: ' + topic_names[-1])"
   ]
  },
  {
   "cell_type": "code",
   "execution_count": 37,
   "metadata": {
    "slideshow": {
     "slide_type": "-"
    }
   },
   "outputs": [
    {
     "name": "stdout",
     "output_type": "stream",
     "text": [
      "Total number of jokes: 46730\n",
      "Topic Zookeeper: Knock Knock Who's there? Zookeeper! Zookeeper who? Zookeeper away from me!\n"
     ]
    }
   ],
   "source": [
    "# this cell will continue form tha last processed topic\n",
    "# it read the jokes file and gets the current topic as the last topic in jokes dictionary keys\n",
    "jokes[curr_topic] = []\n",
    "topics_to_process = topic_names[topic_names.index(curr_topic):]\n",
    "\n",
    "for topic in topics_to_process:\n",
    "    sleep(3)\n",
    "    curr_topic = topic\n",
    "    jokes, no_more_jokes, tot_n_jokes = get_topic_jokes(topic,page_root_url,jokes,tot_n_jokes)\n",
    "    with open(jokes_filename, 'w') as fp:\n",
    "        json.dump(jokes, fp)\n",
    "\n",
    "with open(jokes_filename, 'r') as fp:\n",
    "    jokes = json.load(fp)  \n"
   ]
  },
  {
   "cell_type": "code",
   "execution_count": null,
   "metadata": {
    "collapsed": true
   },
   "outputs": [],
   "source": []
  }
 ],
 "metadata": {
  "celltoolbar": "Slideshow",
  "kernelspec": {
   "display_name": "Python 3",
   "language": "python",
   "name": "python3"
  },
  "language_info": {
   "codemirror_mode": {
    "name": "ipython",
    "version": 3
   },
   "file_extension": ".py",
   "mimetype": "text/x-python",
   "name": "python",
   "nbconvert_exporter": "python",
   "pygments_lexer": "ipython3",
   "version": "3.6.2"
  }
 },
 "nbformat": 4,
 "nbformat_minor": 2
}
